{
 "cells": [
  {
   "cell_type": "code",
   "execution_count": 216,
   "id": "f574a578",
   "metadata": {},
   "outputs": [],
   "source": [
    "import pandas as pd\n",
    "import numpy as np\n",
    "import matplotlib.pyplot as plt\n",
    "from pyts.image import GramianAngularField\n",
    "from sklearn.metrics.pairwise import cosine_similarity\n",
    "from sklearn.metrics.pairwise import pairwise_distances\n",
    "from sklearn.preprocessing import StandardScaler, MinMaxScaler\n",
    "import torch\n",
    "from torch.utils.data import Dataset, DataLoader\n",
    "from torchvision import transforms\n",
    "import torch.nn as nn\n",
    "from sklearn.model_selection import train_test_split\n",
    "from torchvision import datasets, transforms"
   ]
  },
  {
   "cell_type": "markdown",
   "id": "ad1704e5",
   "metadata": {},
   "source": [
    "# 데이터 불러오기"
   ]
  },
  {
   "cell_type": "markdown",
   "id": "733e26f4",
   "metadata": {},
   "source": [
    "-> 데이터 설명 : 24시간 생활심전도를 모니터링 하는것인데, 소형 심전도 기계를 몸에 부착하여 24시간을 부착하는 방식으로 사용된다.\n",
    "\n",
    "-> 변수의 개수 : 187개 \n",
    "\n",
    "-> Train_Data의 개수 : 87554\n",
    "\n",
    "-> Test_Data의 개수 : 21892\n",
    "\n",
    "-> 총 클래스는 5개가 존재하며 0인 클래스는 Normal로 나머지 클래스는 Abnormal로 설정했다.\n",
    "\n",
    "해당 코드 구현은 \n",
    "\n",
    "시계열데이터를 GramianAngularField을 사용하여 이미지로 변환하여 Anomaly를 탐지하였다.\n",
    "\n",
    "Train_Data는 GramianAngularField를 학습하기 위한 용도로 활용되었으며\n",
    "\n",
    "Test_Data를 8:2로 Split하여 Convolution Autoencoder를 정상로만 데이터로 학습하고 테스트 했다.\n",
    "\n",
    "\n",
    "\n"
   ]
  },
  {
   "cell_type": "code",
   "execution_count": 217,
   "id": "a4a85df9",
   "metadata": {},
   "outputs": [],
   "source": [
    "# GramianAngularField를 학습하기 위한 데이터 셋\n",
    "df_hb_train = pd.read_csv('C:/Users/2022010560/Desktop/Dataset/mitbih_train.csv', header=None)\n",
    "\n",
    "# Autoencoder를 학습 및 Test하기 위한 데이터 셋\n",
    "df_hb_test = pd.read_csv('C:/Users/2022010560/Desktop/Dataset/mitbih_test.csv', header=None)"
   ]
  },
  {
   "cell_type": "code",
   "execution_count": 218,
   "id": "f00c8ddd",
   "metadata": {},
   "outputs": [
    {
     "data": {
      "text/plain": [
       "(87554, 188)"
      ]
     },
     "execution_count": 218,
     "metadata": {},
     "output_type": "execute_result"
    }
   ],
   "source": [
    "df_hb_train.shape"
   ]
  },
  {
   "cell_type": "code",
   "execution_count": 219,
   "id": "a6bd95f1",
   "metadata": {},
   "outputs": [
    {
     "data": {
      "text/plain": [
       "(21892, 188)"
      ]
     },
     "execution_count": 219,
     "metadata": {},
     "output_type": "execute_result"
    }
   ],
   "source": [
    "df_hb_test.shape"
   ]
  },
  {
   "cell_type": "code",
   "execution_count": 220,
   "id": "0e22515f",
   "metadata": {},
   "outputs": [
    {
     "data": {
      "text/plain": [
       "0.0    72471\n",
       "4.0     6431\n",
       "2.0     5788\n",
       "1.0     2223\n",
       "3.0      641\n",
       "Name: 187, dtype: int64"
      ]
     },
     "execution_count": 220,
     "metadata": {},
     "output_type": "execute_result"
    }
   ],
   "source": [
    "df_hb_train.iloc[:,-1].value_counts()"
   ]
  },
  {
   "cell_type": "markdown",
   "id": "3033b041",
   "metadata": {},
   "source": [
    "# GramianAngularField"
   ]
  },
  {
   "cell_type": "code",
   "execution_count": 221,
   "id": "5ea9b394",
   "metadata": {},
   "outputs": [],
   "source": [
    "# GramianAngularField를 학습하기 위한 데이터 셋\n",
    "\n",
    "x_train = df_hb_train.iloc[:,:187]"
   ]
  },
  {
   "cell_type": "code",
   "execution_count": 234,
   "id": "63aaa373",
   "metadata": {},
   "outputs": [],
   "source": [
    "gasf = GramianAngularField(image_size=187, method='summation')\n",
    "x_gasf_train = gasf.fit_transform(x_train)"
   ]
  },
  {
   "cell_type": "code",
   "execution_count": 235,
   "id": "43e59dd9",
   "metadata": {},
   "outputs": [
    {
     "data": {
      "text/plain": [
       "(187, 187)"
      ]
     },
     "execution_count": 235,
     "metadata": {},
     "output_type": "execute_result"
    }
   ],
   "source": [
    "# 이미지변환 했을 때 차원\n",
    "x_gasf_train[0].shape"
   ]
  },
  {
   "cell_type": "markdown",
   "id": "fa10e08f",
   "metadata": {},
   "source": [
    "# Conv Autoencoder"
   ]
  },
  {
   "cell_type": "code",
   "execution_count": 223,
   "id": "059cc1b8",
   "metadata": {},
   "outputs": [],
   "source": [
    "# HyperParmeter\n",
    "args = {\n",
    "\t'BATCH_SIZE': 256,\n",
    "        'LEARNING_RATE': 0.005,\n",
    "        'NUM_EPOCH': 30\n",
    "        }"
   ]
  },
  {
   "cell_type": "code",
   "execution_count": 224,
   "id": "41f1a919",
   "metadata": {},
   "outputs": [],
   "source": [
    "\n",
    "# Autoencoder를 학습하기 위한 데이터 셋 \n",
    "# Normal Train & Normal Test Dataset  8:2 로 분리\n",
    "\n",
    "x_train_normal = df_hb_test.loc[df_hb_test.iloc[:,-1]==0].iloc[:,:187][:int(len(df_hb_test.loc[df_hb_test.iloc[:,-1]==0])*0.8)]\n",
    "x_test_normal = df_hb_test.loc[df_hb_test.iloc[:,-1]==0].iloc[:,:187][int(len(df_hb_test.loc[df_hb_test.iloc[:,-1]==0])*0.8):]"
   ]
  },
  {
   "cell_type": "code",
   "execution_count": 225,
   "id": "906b665c",
   "metadata": {},
   "outputs": [],
   "source": [
    "\n",
    "#Label \n",
    "\n",
    "y_train_normal_label = df_hb_test.loc[df_hb_test.iloc[:,-1]==0].iloc[:,187].values[:int(len(df_hb_test.loc[df_hb_test.iloc[:,-1]==0])*0.8)]\n",
    "y_test_normal_label = df_hb_test.loc[df_hb_test.iloc[:,-1]==0].iloc[:,-1].values[int(len(df_hb_test.loc[df_hb_test.iloc[:,-1]==0])*0.8):]"
   ]
  },
  {
   "cell_type": "code",
   "execution_count": 226,
   "id": "3097452c",
   "metadata": {},
   "outputs": [
    {
     "data": {
      "text/plain": [
       "14494"
      ]
     },
     "execution_count": 226,
     "metadata": {},
     "output_type": "execute_result"
    }
   ],
   "source": [
    "len(y_train_normal_label)"
   ]
  },
  {
   "cell_type": "code",
   "execution_count": 227,
   "id": "509e9d07",
   "metadata": {},
   "outputs": [],
   "source": [
    "\n",
    "# Autoencoder를 Test 하기 위한 Abnormal Dataset\n",
    "\n",
    "x_test_abnormal = df_hb_test.loc[df_hb_test.iloc[:,-1]!=0].iloc[:,:187]\n",
    "y_test_abnormal_label = df_hb_test.loc[df_hb_test.iloc[:,-1]!=0].iloc[:,-1].values"
   ]
  },
  {
   "cell_type": "code",
   "execution_count": 228,
   "id": "95123534",
   "metadata": {},
   "outputs": [
    {
     "data": {
      "text/plain": [
       "3774"
      ]
     },
     "execution_count": 228,
     "metadata": {},
     "output_type": "execute_result"
    }
   ],
   "source": [
    "len(y_test_abnormal_label)"
   ]
  },
  {
   "cell_type": "code",
   "execution_count": null,
   "id": "30b02e81",
   "metadata": {},
   "outputs": [],
   "source": []
  },
  {
   "cell_type": "code",
   "execution_count": 229,
   "id": "fb8da544",
   "metadata": {},
   "outputs": [],
   "source": [
    "# Gasf Dataset Class로 정의\n",
    "class gasf_Dataset(Dataset):\n",
    "    def __init__(self,images,labels, transform=None):\n",
    "        self.images = images\n",
    "        self.labels = labels\n",
    "        self.transform = transform\n",
    "        \n",
    "        print(f'데이터_사이즈:{len(self.images)}')\n",
    "        \n",
    "    def __getitem__(self, idx):\n",
    "        image = self.images[idx]\n",
    "        image = self.transform(image)\n",
    "        label = self.labels[idx]\n",
    "        return image.type(torch.float32), label\n",
    "    \n",
    "    def __len__(self):\n",
    "        return len(self.images)\n",
    "    \n",
    "    \n",
    "def Resize_go(ver):\n",
    "    if ver ==1 :\n",
    "        transform = transforms.Compose([\n",
    "        transforms.ToTensor(),\n",
    "        transforms.Resize((32, 32)),\n",
    "        transforms.Normalize(mean=[0.5], std=[0.5])]) # Mormalization은 고민\n",
    "        \n",
    "    if ver ==2:\n",
    "        transform = transforms.Compose([\n",
    "            transforms.ToTensor(),\n",
    "            transforms.Normalize(mean=[0.5], std=[0.5])])\n",
    "        \n",
    "    return transform"
   ]
  },
  {
   "cell_type": "code",
   "execution_count": 230,
   "id": "a34e9b8c",
   "metadata": {},
   "outputs": [
    {
     "name": "stdout",
     "output_type": "stream",
     "text": [
      "데이터_사이즈:14494\n",
      "데이터_사이즈:3624\n",
      "데이터_사이즈:3774\n"
     ]
    }
   ],
   "source": [
    "\n",
    "\n",
    "train_dataset = gasf_Dataset(x_train_normal,y_train_normal_label,Resize_go(1))\n",
    "test_normal_dataset = gasf_Dataset(x_test_normal,y_test_normal_label ,Resize_go(1))\n",
    "test_abnormal_dataset = gasf_Dataset(x_test_abnormal,y_test_abnormal_label ,Resize_go(1))"
   ]
  },
  {
   "cell_type": "code",
   "execution_count": 121,
   "id": "a0f2d46d",
   "metadata": {},
   "outputs": [],
   "source": [
    "train_loader = DataLoader(train_dataset, batch_size=args['BATCH_SIZE'], shuffle=True)\n",
    "test_normal_loader = DataLoader(test_normal_dataset, batch_size=args['BATCH_SIZE'], shuffle=True)\n",
    "test_abnormal_loader = DataLoader(test_abnormal_dataset, batch_size=args['BATCH_SIZE'], shuffle=True)"
   ]
  },
  {
   "cell_type": "code",
   "execution_count": 122,
   "id": "cbb5c0fb",
   "metadata": {},
   "outputs": [],
   "source": [
    "# Convolution Autoencoder Class정의 \n",
    "\n",
    "class ConvAutoEncoder(nn.Module):\n",
    "    def __init__(self):\n",
    "        super(ConvAutoEncoder, self).__init__()\n",
    "        \n",
    "        # Encoder\n",
    "        self.cnn_layer1 = nn.Sequential(\n",
    "                        nn.Conv2d(1, 16, kernel_size=3, stride=1, padding=1),\n",
    "                        nn.ReLU(),\n",
    "                         nn.MaxPool2d(2,2))\n",
    "\n",
    "        self.cnn_layer2 = nn.Sequential(\n",
    "                                nn.Conv2d(16, 32, kernel_size=3, stride=1, padding=1),\n",
    "                                nn.ReLU(),\n",
    "                                 nn.MaxPool2d(2,2))\n",
    "\n",
    "        # Decoder\n",
    "        self.tran_cnn_layer1 = nn.Sequential(\n",
    "                        nn.ConvTranspose2d(32, 16, kernel_size = 2, stride = 2, padding=0),\n",
    "                        nn.ReLU())\n",
    "\n",
    "        self.tran_cnn_layer2 = nn.Sequential(\n",
    "                        nn.ConvTranspose2d(16, 1, kernel_size = 2, stride = 2, padding=0),\n",
    "                        nn.Sigmoid())\n",
    "            \n",
    "            \n",
    "    def forward(self, x):\n",
    "        output = self.cnn_layer1(x)\n",
    "        output = self.cnn_layer2(output)\n",
    "        output = self.tran_cnn_layer1(output)\n",
    "        output = self.tran_cnn_layer2(output)\n",
    "        \n",
    "        return output"
   ]
  },
  {
   "cell_type": "code",
   "execution_count": 123,
   "id": "319505e8",
   "metadata": {},
   "outputs": [],
   "source": [
    "model = ConvAutoEncoder()\n",
    "\n",
    "criterion = nn.MSELoss()\n",
    "optimizer = torch.optim.Adam(model.parameters(), lr=args['LEARNING_RATE'])"
   ]
  },
  {
   "cell_type": "code",
   "execution_count": 124,
   "id": "ffbb466b",
   "metadata": {},
   "outputs": [
    {
     "name": "stdout",
     "output_type": "stream",
     "text": [
      "Epoch: 1/30 Training loss: 420.39342..\n",
      "Epoch: 2/30 Training loss: 393.77640..\n",
      "Epoch: 3/30 Training loss: 391.17309..\n",
      "Epoch: 4/30 Training loss: 389.77683..\n",
      "Epoch: 5/30 Training loss: 388.84847..\n",
      "Epoch: 6/30 Training loss: 388.29114..\n",
      "Epoch: 7/30 Training loss: 387.91025..\n",
      "Epoch: 8/30 Training loss: 387.62272..\n",
      "Epoch: 9/30 Training loss: 387.39600..\n",
      "Epoch: 10/30 Training loss: 387.19639..\n",
      "Epoch: 11/30 Training loss: 387.03025..\n",
      "Epoch: 12/30 Training loss: 386.90897..\n",
      "Epoch: 13/30 Training loss: 386.79706..\n",
      "Epoch: 14/30 Training loss: 386.70938..\n",
      "Epoch: 15/30 Training loss: 386.62673..\n",
      "Epoch: 16/30 Training loss: 386.53553..\n",
      "Epoch: 17/30 Training loss: 386.46072..\n",
      "Epoch: 18/30 Training loss: 386.39549..\n",
      "Epoch: 19/30 Training loss: 386.34172..\n",
      "Epoch: 20/30 Training loss: 386.29036..\n",
      "Epoch: 21/30 Training loss: 386.24000..\n",
      "Epoch: 22/30 Training loss: 386.19378..\n",
      "Epoch: 23/30 Training loss: 386.15007..\n",
      "Epoch: 24/30 Training loss: 386.10071..\n",
      "Epoch: 25/30 Training loss: 386.04034..\n",
      "Epoch: 26/30 Training loss: 385.97775..\n",
      "Epoch: 27/30 Training loss: 385.93064..\n",
      "Epoch: 28/30 Training loss: 385.89352..\n",
      "Epoch: 29/30 Training loss: 385.84978..\n",
      "Epoch: 30/30 Training loss: 385.81934..\n"
     ]
    }
   ],
   "source": [
    "steps = 0\n",
    "total_steps = len(train_loader)\n",
    "for epoch in range(args['NUM_EPOCH']):\n",
    "    running_loss = 0\n",
    "    for i, (X_train, _) in enumerate(train_loader):\n",
    "        steps += 1\n",
    "        outputs = model(X_train)\n",
    "        loss = criterion(outputs, X_train)\n",
    "        loss.backward()\n",
    "        optimizer.step()\n",
    "        optimizer.zero_grad()\n",
    "        running_loss += loss.item()*X_train.shape[0]\n",
    "        \n",
    "        if steps % total_steps == 0:\n",
    "            model.eval()\n",
    "            print('Epoch: {}/{}'.format(epoch+1, args['NUM_EPOCH']),\n",
    "                 'Training loss: {:.5f}..'.format(running_loss/total_steps))\n",
    "            \n",
    "            steps = 0\n",
    "            running_loss = 0\n",
    "            model.train()"
   ]
  },
  {
   "cell_type": "markdown",
   "id": "8f732f3d",
   "metadata": {},
   "source": [
    "# Reconstructed Data Plot\n",
    "\n",
    "Plot에서\n",
    "\n",
    "-> 1행 : 원본 데이터\n",
    "\n",
    "-> 2행 : 재복원 데이터"
   ]
  },
  {
   "cell_type": "code",
   "execution_count": 125,
   "id": "866c53e8",
   "metadata": {},
   "outputs": [
    {
     "data": {
      "text/plain": [
       "ConvAutoEncoder(\n",
       "  (cnn_layer1): Sequential(\n",
       "    (0): Conv2d(1, 16, kernel_size=(3, 3), stride=(1, 1), padding=(1, 1))\n",
       "    (1): ReLU()\n",
       "    (2): MaxPool2d(kernel_size=2, stride=2, padding=0, dilation=1, ceil_mode=False)\n",
       "  )\n",
       "  (cnn_layer2): Sequential(\n",
       "    (0): Conv2d(16, 32, kernel_size=(3, 3), stride=(1, 1), padding=(1, 1))\n",
       "    (1): ReLU()\n",
       "    (2): MaxPool2d(kernel_size=2, stride=2, padding=0, dilation=1, ceil_mode=False)\n",
       "  )\n",
       "  (tran_cnn_layer1): Sequential(\n",
       "    (0): ConvTranspose2d(32, 16, kernel_size=(2, 2), stride=(2, 2))\n",
       "    (1): ReLU()\n",
       "  )\n",
       "  (tran_cnn_layer2): Sequential(\n",
       "    (0): ConvTranspose2d(16, 1, kernel_size=(2, 2), stride=(2, 2))\n",
       "    (1): Sigmoid()\n",
       "  )\n",
       ")"
      ]
     },
     "execution_count": 125,
     "metadata": {},
     "output_type": "execute_result"
    }
   ],
   "source": [
    "model.eval()"
   ]
  },
  {
   "cell_type": "code",
   "execution_count": 153,
   "id": "df7b9797",
   "metadata": {},
   "outputs": [
    {
     "data": {
      "image/png": "[encoded data removed]",
      "text/plain": [
       "<Figure size 1440x288 with 20 Axes>"
      ]
     },
     "metadata": {
      "needs_background": "light"
     },
     "output_type": "display_data"
    }
   ],
   "source": [
    "\n",
    "# 1행 Normal 원본 데이터\n",
    "# 2행 Normal Reconstructed Data\n",
    "\n",
    "n = 10 # 이미지 개수 \n",
    "plt.figure(figsize=(20,4))\n",
    "for i in range(1,n+1):\n",
    "    ax = plt.subplot(2,n,i)\n",
    "    plt.imshow(np.transpose(test_normal_dataset[i][0],(1,2,0)))\n",
    "    plt.gray()\n",
    "    ax.get_xaxis().set_visible(False)\n",
    "    ax.get_yaxis().set_visible(False)\n",
    "    \n",
    "     # 재구성된 데이터\n",
    "    ax = plt.subplot(2, n, i + n)\n",
    "    plt.imshow(np.transpose(model(test_normal_dataset[i][0]).detach(),(1,2,0)))\n",
    "    plt.gray()\n",
    "    ax.get_xaxis().set_visible(False)\n",
    "    ax.get_yaxis().set_visible(False)\n",
    "    \n",
    "plt.show()\n",
    "               "
   ]
  },
  {
   "cell_type": "code",
   "execution_count": 154,
   "id": "e7c40ec9",
   "metadata": {},
   "outputs": [
    {
     "data": {
      "image/png": "[encoded data removed]",
      "text/plain": [
       "<Figure size 1440x288 with 20 Axes>"
      ]
     },
     "metadata": {
      "needs_background": "light"
     },
     "output_type": "display_data"
    }
   ],
   "source": [
    "# 1행 abNormal 원본 데이터\n",
    "# 2행 abNormal Reconstructed Data\n",
    "\n",
    "n = 10 # 이미지 개수 \n",
    "plt.figure(figsize=(20,4))\n",
    "for i in range(1,n+1):\n",
    "    ax = plt.subplot(2,n,i)\n",
    "    plt.imshow(np.transpose(test_abnormal_dataset[i][0],(1,2,0)))\n",
    "    plt.gray()\n",
    "    ax.get_xaxis().set_visible(False)\n",
    "    ax.get_yaxis().set_visible(False)\n",
    "    \n",
    "     # 재구성된 데이터\n",
    "    ax = plt.subplot(2, n, i + n)\n",
    "    plt.imshow(np.transpose(model(test_abnormal_dataset[i][0]).detach(),(1,2,0)))\n",
    "    plt.gray()\n",
    "    ax.get_xaxis().set_visible(False)\n",
    "    ax.get_yaxis().set_visible(False)\n",
    "    \n",
    "plt.show()"
   ]
  },
  {
   "cell_type": "markdown",
   "id": "3f27fe77",
   "metadata": {},
   "source": [
    "# Threshold 정의"
   ]
  },
  {
   "cell_type": "code",
   "execution_count": 159,
   "id": "f389e863",
   "metadata": {},
   "outputs": [],
   "source": [
    "# Normal 데이터에 대한 재복원 오차\n",
    "\n",
    "test_normal_loss = 0\n",
    "for i in range(len(test_normal_dataset)):\n",
    "    outputs = model(test_normal_dataset[i][0])\n",
    "    test_normal_loss += criterion(outputs, test_normal_dataset[i][0])\n",
    "    \n",
    "Reconsturction_Error_normal_Dataset = test_normal_loss/len(test_normal_dataset)"
   ]
  },
  {
   "cell_type": "code",
   "execution_count": 157,
   "id": "4cc8f559",
   "metadata": {},
   "outputs": [],
   "source": [
    "# Abnormal 데이터에 대한 재복원 오차\n",
    "\n",
    "test_abnormal_loss = 0\n",
    "for i in range(len(test_abnormal_dataset)):\n",
    "    outputs = model(test_abnormal_dataset[i][0])\n",
    "    test_abnormal_loss += criterion(outputs, test_abnormal_dataset[i][0])\n",
    "    \n",
    "Reconsturction_Error_Abnormal_Dataset = test_abnormal_loss/len(test_abnormal_dataset)"
   ]
  },
  {
   "cell_type": "code",
   "execution_count": 160,
   "id": "28210e4a",
   "metadata": {},
   "outputs": [
    {
     "data": {
      "text/plain": [
       "tensor(1.4838, grad_fn=<DivBackward0>)"
      ]
     },
     "execution_count": 160,
     "metadata": {},
     "output_type": "execute_result"
    }
   ],
   "source": [
    "# Normal 데이터에 대한 재복원 오차\n",
    "Reconsturction_Error_normal_Dataset"
   ]
  },
  {
   "cell_type": "code",
   "execution_count": 158,
   "id": "080728ed",
   "metadata": {},
   "outputs": [
    {
     "data": {
      "text/plain": [
       "tensor(2.5519, grad_fn=<DivBackward0>)"
      ]
     },
     "execution_count": 158,
     "metadata": {},
     "output_type": "execute_result"
    }
   ],
   "source": [
    "# Abnormal 데이터에 대한 재복원 오차\n",
    "Reconsturction_Error_Abnormal_Dataset "
   ]
  },
  {
   "cell_type": "code",
   "execution_count": 236,
   "id": "84d34b9d",
   "metadata": {},
   "outputs": [],
   "source": [
    "# Threshold를 Noraml 데이터와 Abnormal 데이터에 대한 평균으로 정의\n",
    "\n",
    "Anomaly_Threshold = (Reconsturction_Error_normal_Dataset + Reconsturction_Error_Abnormal_Dataset)/2"
   ]
  },
  {
   "cell_type": "markdown",
   "id": "0b315e7b",
   "metadata": {},
   "source": [
    "# Experiment"
   ]
  },
  {
   "cell_type": "markdown",
   "id": "88cf948a",
   "metadata": {},
   "source": [
    "## Anomlay_Threshold를 Noraml 데이터와 Abnormal 데이터에 대한 평균으로 정의했을 때의 성능평가 지표"
   ]
  },
  {
   "cell_type": "code",
   "execution_count": 166,
   "id": "f3ac4c34",
   "metadata": {},
   "outputs": [],
   "source": [
    "Predict_label = []\n",
    "True_label = []\n",
    "for i in range(len(test_normal_dataset)):\n",
    "    outputs = model(test_normal_dataset[i][0])\n",
    "    test_normal_loss = criterion(outputs, test_normal_dataset[i][0])\n",
    "    if test_normal_loss < Anomaly_Threshold:\n",
    "        Predict_label.append(0)\n",
    "    else:\n",
    "        Predict_label.append(1)\n",
    "    True_label.append(0)"
   ]
  },
  {
   "cell_type": "code",
   "execution_count": 167,
   "id": "7e6dcefe",
   "metadata": {},
   "outputs": [],
   "source": [
    "for i in range(len(test_abnormal_dataset)):\n",
    "    outputs = model(test_abnormal_dataset[i][0])\n",
    "    test_abnormal_loss = criterion(outputs, test_abnormal_dataset[i][0])\n",
    "    if test_abnormal_loss < Anomaly_Threshold:\n",
    "        Predict_label.append(0)\n",
    "    else:\n",
    "        Predict_label.append(1)\n",
    "    True_label.append(1)"
   ]
  },
  {
   "cell_type": "code",
   "execution_count": 171,
   "id": "abc47dce",
   "metadata": {},
   "outputs": [
    {
     "name": "stdout",
     "output_type": "stream",
     "text": [
      "[[2771  853]\n",
      " [1562 2212]]\n",
      "0.6735604217356043\n",
      "0.7216965742251223\n",
      "0.5861155272919979\n",
      "0.646878198567042\n"
     ]
    }
   ],
   "source": [
    "from sklearn.metrics import confusion_matrix\n",
    "from sklearn.metrics import accuracy_score\n",
    "from sklearn.metrics import precision_score\n",
    "from sklearn.metrics import recall_score\n",
    "from sklearn.metrics import f1_score\n",
    "import seaborn as sns"
   ]
  },
  {
   "cell_type": "code",
   "execution_count": 176,
   "id": "f556fc48",
   "metadata": {},
   "outputs": [
    {
     "data": {
      "image/png": "[encoded data removed]",
      "text/plain": [
       "<Figure size 432x288 with 2 Axes>"
      ]
     },
     "metadata": {
      "needs_background": "light"
     },
     "output_type": "display_data"
    }
   ],
   "source": [
    "# Confusion Matrix \n",
    "# Positive = Abnormal, Negative = Normal\n",
    "\n",
    "cm2 = confusion_matrix(True_label, Predict_label)\n",
    "sns.heatmap(cm2, annot = True, fmt = 'd',cmap = 'Reds')\n",
    "plt.xlabel('True_Label')\n",
    "plt.ylabel('Prediction_Label')\n",
    "plt.xticks([0.5,1.5],['0(N)', '1(P)'])\n",
    "plt.yticks([0.5,1.5],['0(N)', '1(P)'])\n",
    "plt.show()"
   ]
  },
  {
   "cell_type": "code",
   "execution_count": 177,
   "id": "b7727190",
   "metadata": {},
   "outputs": [
    {
     "name": "stdout",
     "output_type": "stream",
     "text": [
      "Accuracy_Score 0.6735604217356043\n"
     ]
    }
   ],
   "source": [
    "# Accuracy_Score\n",
    "\n",
    "print('Accuracy_Score', accuracy_score(True_label, Predict_label))"
   ]
  },
  {
   "cell_type": "code",
   "execution_count": 178,
   "id": "191875d3",
   "metadata": {},
   "outputs": [
    {
     "name": "stdout",
     "output_type": "stream",
     "text": [
      "Precision_Score 0.7216965742251223\n"
     ]
    }
   ],
   "source": [
    "# Precision_Score\n",
    "\n",
    "print('Precision_Score', precision_score(True_label, Predict_label))"
   ]
  },
  {
   "cell_type": "code",
   "execution_count": 179,
   "id": "655aa6ba",
   "metadata": {},
   "outputs": [
    {
     "name": "stdout",
     "output_type": "stream",
     "text": [
      "Recall_Score 0.5861155272919979\n"
     ]
    }
   ],
   "source": [
    "# Recall_Score\n",
    "\n",
    "print('Recall_Score', recall_score(True_label, Predict_label))"
   ]
  },
  {
   "cell_type": "code",
   "execution_count": 180,
   "id": "62d1e935",
   "metadata": {},
   "outputs": [
    {
     "name": "stdout",
     "output_type": "stream",
     "text": [
      "F1_Score 0.646878198567042\n"
     ]
    }
   ],
   "source": [
    "# F1_Score\n",
    "\n",
    "print('F1_Score', f1_score(True_label, Predict_label))"
   ]
  },
  {
   "cell_type": "markdown",
   "id": "bc51379b",
   "metadata": {},
   "source": [
    "## Anomlay_Threshold를 Noraml 데이터와 Abnormal 데이터에 대한 평균보다 0.1 크게 했을 때의 성능지표"
   ]
  },
  {
   "cell_type": "code",
   "execution_count": null,
   "id": "eda7ef88",
   "metadata": {},
   "outputs": [],
   "source": [
    "# Anomaly_Threshold "
   ]
  },
  {
   "cell_type": "code",
   "execution_count": 182,
   "id": "1791ca1d",
   "metadata": {},
   "outputs": [],
   "source": [
    "Predict_label = []\n",
    "True_label = []\n",
    "for i in range(len(test_normal_dataset)):\n",
    "    outputs = model(test_normal_dataset[i][0])\n",
    "    test_normal_loss = criterion(outputs, test_normal_dataset[i][0])\n",
    "    if test_normal_loss < Anomaly_Threshold+0.1:\n",
    "        Predict_label.append(0)\n",
    "    else:\n",
    "        Predict_label.append(1)\n",
    "    True_label.append(0)"
   ]
  },
  {
   "cell_type": "code",
   "execution_count": 183,
   "id": "ae0ebace",
   "metadata": {},
   "outputs": [],
   "source": [
    "for i in range(len(test_abnormal_dataset)):\n",
    "    outputs = model(test_abnormal_dataset[i][0])\n",
    "    test_abnormal_loss = criterion(outputs, test_abnormal_dataset[i][0])\n",
    "    if test_abnormal_loss < Anomaly_Threshold+0.1:\n",
    "        Predict_label.append(0)\n",
    "    else:\n",
    "        Predict_label.append(1)\n",
    "    True_label.append(1)"
   ]
  },
  {
   "cell_type": "code",
   "execution_count": 184,
   "id": "aa38580a",
   "metadata": {},
   "outputs": [
    {
     "data": {
      "image/png": "[encoded data removed]",
      "text/plain": [
       "<Figure size 432x288 with 2 Axes>"
      ]
     },
     "metadata": {
      "needs_background": "light"
     },
     "output_type": "display_data"
    }
   ],
   "source": [
    "# Confusion Matrix \n",
    "# Positive = Abnormal, Negative = Normal\n",
    "\n",
    "cm2 = confusion_matrix(True_label, Predict_label)\n",
    "sns.heatmap(cm2, annot = True, fmt = 'd',cmap = 'Reds')\n",
    "plt.xlabel('True_Label')\n",
    "plt.ylabel('Prediction_Label')\n",
    "plt.xticks([0.5,1.5],['0(N)', '1(P)'])\n",
    "plt.yticks([0.5,1.5],['0(N)', '1(P)'])\n",
    "plt.show()"
   ]
  },
  {
   "cell_type": "code",
   "execution_count": 185,
   "id": "35709a3f",
   "metadata": {},
   "outputs": [
    {
     "name": "stdout",
     "output_type": "stream",
     "text": [
      "Accuracy_Score 0.6665314949986483\n"
     ]
    }
   ],
   "source": [
    "# Accuracy_Score\n",
    "\n",
    "print('Accuracy_Score', accuracy_score(True_label, Predict_label))"
   ]
  },
  {
   "cell_type": "code",
   "execution_count": 186,
   "id": "833b12f8",
   "metadata": {},
   "outputs": [
    {
     "name": "stdout",
     "output_type": "stream",
     "text": [
      "Precision_Score 0.7217509331523583\n"
     ]
    }
   ],
   "source": [
    "# Precision_Score\n",
    "\n",
    "print('Precision_Score', precision_score(True_label, Predict_label))"
   ]
  },
  {
   "cell_type": "code",
   "execution_count": 187,
   "id": "6de4c1da",
   "metadata": {},
   "outputs": [
    {
     "name": "stdout",
     "output_type": "stream",
     "text": [
      "Recall_Score 0.5635930047694754\n"
     ]
    }
   ],
   "source": [
    "# Recall_Score\n",
    "\n",
    "print('Recall_Score', recall_score(True_label, Predict_label))"
   ]
  },
  {
   "cell_type": "code",
   "execution_count": 188,
   "id": "332e642e",
   "metadata": {},
   "outputs": [
    {
     "name": "stdout",
     "output_type": "stream",
     "text": [
      "F1_Score 0.6329415265585479\n"
     ]
    }
   ],
   "source": [
    "# F1_Score\n",
    "\n",
    "print('F1_Score', f1_score(True_label, Predict_label))"
   ]
  },
  {
   "cell_type": "code",
   "execution_count": null,
   "id": "d1797767",
   "metadata": {},
   "outputs": [],
   "source": []
  },
  {
   "cell_type": "code",
   "execution_count": 196,
   "id": "dec76fe3",
   "metadata": {},
   "outputs": [],
   "source": []
  },
  {
   "cell_type": "markdown",
   "id": "00d8b8cf",
   "metadata": {},
   "source": [
    "## Anomlay_Threshold를 Noraml 데이터와 Abnormal 데이터에 대한 평균보다 0.1 작게 했을 때의 성능지표"
   ]
  },
  {
   "cell_type": "code",
   "execution_count": 189,
   "id": "7af55b81",
   "metadata": {},
   "outputs": [],
   "source": [
    "Predict_label = []\n",
    "True_label = []\n",
    "for i in range(len(test_normal_dataset)):\n",
    "    outputs = model(test_normal_dataset[i][0])\n",
    "    test_normal_loss = criterion(outputs, test_normal_dataset[i][0])\n",
    "    if test_normal_loss < Anomaly_Threshold-0.1:\n",
    "        Predict_label.append(0)\n",
    "    else:\n",
    "        Predict_label.append(1)\n",
    "    True_label.append(0)"
   ]
  },
  {
   "cell_type": "code",
   "execution_count": 190,
   "id": "03501e70",
   "metadata": {},
   "outputs": [],
   "source": [
    "for i in range(len(test_abnormal_dataset)):\n",
    "    outputs = model(test_abnormal_dataset[i][0])\n",
    "    test_abnormal_loss = criterion(outputs, test_abnormal_dataset[i][0])\n",
    "    if test_abnormal_loss < Anomaly_Threshold-0.1:\n",
    "        Predict_label.append(0)\n",
    "    else:\n",
    "        Predict_label.append(1)\n",
    "    True_label.append(1)"
   ]
  },
  {
   "cell_type": "code",
   "execution_count": 191,
   "id": "3ea7f1a5",
   "metadata": {},
   "outputs": [
    {
     "data": {
      "image/png": "[encoded data removed]",
      "text/plain": [
       "<Figure size 432x288 with 2 Axes>"
      ]
     },
     "metadata": {
      "needs_background": "light"
     },
     "output_type": "display_data"
    }
   ],
   "source": [
    "# Confusion Matrix \n",
    "# Positive = Abnormal, Negative = Normal\n",
    "\n",
    "cm2 = confusion_matrix(True_label, Predict_label)\n",
    "sns.heatmap(cm2, annot = True, fmt = 'd',cmap = 'Reds')\n",
    "plt.xlabel('True_Label')\n",
    "plt.ylabel('Prediction_Label')\n",
    "plt.xticks([0.5,1.5],['0(N)', '1(P)'])\n",
    "plt.yticks([0.5,1.5],['0(N)', '1(P)'])\n",
    "plt.show()"
   ]
  },
  {
   "cell_type": "code",
   "execution_count": 192,
   "id": "b72958ac",
   "metadata": {},
   "outputs": [
    {
     "name": "stdout",
     "output_type": "stream",
     "text": [
      "Accuracy_Score 0.680183833468505\n"
     ]
    }
   ],
   "source": [
    "# Accuracy_Score\n",
    "\n",
    "print('Accuracy_Score', accuracy_score(True_label, Predict_label))"
   ]
  },
  {
   "cell_type": "code",
   "execution_count": 193,
   "id": "8befe152",
   "metadata": {},
   "outputs": [
    {
     "name": "stdout",
     "output_type": "stream",
     "text": [
      "Precision_Score 0.718769422001243\n"
     ]
    }
   ],
   "source": [
    "# Precision_Score\n",
    "\n",
    "print('Precision_Score', precision_score(True_label, Predict_label))"
   ]
  },
  {
   "cell_type": "code",
   "execution_count": 194,
   "id": "7a94afa6",
   "metadata": {},
   "outputs": [
    {
     "name": "stdout",
     "output_type": "stream",
     "text": [
      "Recall_Score 0.6128775834658188\n"
     ]
    }
   ],
   "source": [
    "# Recall_Score\n",
    "\n",
    "print('Recall_Score', recall_score(True_label, Predict_label))"
   ]
  },
  {
   "cell_type": "code",
   "execution_count": 195,
   "id": "31b83d42",
   "metadata": {},
   "outputs": [
    {
     "name": "stdout",
     "output_type": "stream",
     "text": [
      "F1_Score 0.6616132723112129\n"
     ]
    }
   ],
   "source": [
    "# F1_Score\n",
    "\n",
    "print('F1_Score', f1_score(True_label, Predict_label))"
   ]
  },
  {
   "cell_type": "code",
   "execution_count": null,
   "id": "fa41ee06",
   "metadata": {},
   "outputs": [],
   "source": []
  },
  {
   "cell_type": "markdown",
   "id": "7125084d",
   "metadata": {},
   "source": [
    "## Anomlay_Threshold를 Noraml 데이터와 Abnormal 데이터에 대한 평균보다 0.2 작게 했을 때의 성능지표"
   ]
  },
  {
   "cell_type": "code",
   "execution_count": null,
   "id": "ab369a96",
   "metadata": {},
   "outputs": [],
   "source": [
    "Predict_label = []\n",
    "True_label = []\n",
    "for i in range(len(test_normal_dataset)):\n",
    "    outputs = model(test_normal_dataset[i][0])\n",
    "    test_normal_loss = criterion(outputs, test_normal_dataset[i][0])\n",
    "    if test_normal_loss < Anomaly_Threshold-0.2:\n",
    "        Predict_label.append(0)\n",
    "    else:\n",
    "        Predict_label.append(1)\n",
    "    True_label.append(0)"
   ]
  },
  {
   "cell_type": "code",
   "execution_count": 197,
   "id": "dd2702c5",
   "metadata": {},
   "outputs": [],
   "source": [
    "for i in range(len(test_abnormal_dataset)):\n",
    "    outputs = model(test_abnormal_dataset[i][0])\n",
    "    test_abnormal_loss = criterion(outputs, test_abnormal_dataset[i][0])\n",
    "    if test_abnormal_loss < Anomaly_Threshold-0.2:\n",
    "        Predict_label.append(0)\n",
    "    else:\n",
    "        Predict_label.append(1)\n",
    "    True_label.append(1)"
   ]
  },
  {
   "cell_type": "code",
   "execution_count": 198,
   "id": "ace7b286",
   "metadata": {},
   "outputs": [
    {
     "data": {
      "image/png": "[encoded data removed]",
      "text/plain": [
       "<Figure size 432x288 with 2 Axes>"
      ]
     },
     "metadata": {
      "needs_background": "light"
     },
     "output_type": "display_data"
    }
   ],
   "source": [
    "# Confusion Matrix \n",
    "# Positive = Abnormal, Negative = Normal\n",
    "\n",
    "cm2 = confusion_matrix(True_label, Predict_label)\n",
    "sns.heatmap(cm2, annot = True, fmt = 'd',cmap = 'Reds')\n",
    "plt.xlabel('True_Label')\n",
    "plt.ylabel('Prediction_Label')\n",
    "plt.xticks([0.5,1.5],['0(N)', '1(P)'])\n",
    "plt.yticks([0.5,1.5],['0(N)', '1(P)'])\n",
    "plt.show()"
   ]
  },
  {
   "cell_type": "code",
   "execution_count": 199,
   "id": "69d5d4ad",
   "metadata": {},
   "outputs": [
    {
     "name": "stdout",
     "output_type": "stream",
     "text": [
      "Accuracy_Score 0.6832927818329279\n"
     ]
    }
   ],
   "source": [
    "# Accuracy_Score\n",
    "\n",
    "print('Accuracy_Score', accuracy_score(True_label, Predict_label))"
   ]
  },
  {
   "cell_type": "code",
   "execution_count": 200,
   "id": "25b2012a",
   "metadata": {},
   "outputs": [
    {
     "name": "stdout",
     "output_type": "stream",
     "text": [
      "Precision_Score 0.7117490381769754\n"
     ]
    }
   ],
   "source": [
    "# Precision_Score\n",
    "\n",
    "print('Precision_Score', precision_score(True_label, Predict_label))"
   ]
  },
  {
   "cell_type": "code",
   "execution_count": 201,
   "id": "b9ca419d",
   "metadata": {},
   "outputs": [
    {
     "name": "stdout",
     "output_type": "stream",
     "text": [
      "Recall_Score 0.6372549019607843\n"
     ]
    }
   ],
   "source": [
    "# Recall_Score\n",
    "\n",
    "print('Recall_Score', recall_score(True_label, Predict_label))"
   ]
  },
  {
   "cell_type": "code",
   "execution_count": 202,
   "id": "9a94affd",
   "metadata": {},
   "outputs": [
    {
     "name": "stdout",
     "output_type": "stream",
     "text": [
      "F1_Score 0.6724451279183559\n"
     ]
    }
   ],
   "source": [
    "# F1_Score\n",
    "\n",
    "print('F1_Score', f1_score(True_label, Predict_label))"
   ]
  },
  {
   "cell_type": "markdown",
   "id": "c75603c6",
   "metadata": {},
   "source": [
    "# 결과\n",
    "\n",
    "-> Threshold가 낮아짐에 따라 성능평가지표가 상대적으로 높아지는 것을 확인할 수 있다.\n",
    "\n",
    "Anomaly Detection 모델을 구성할 때는 Threshold의 설정이 굉장히 중요함을 추론할 수 있다. "
   ]
  },
  {
   "cell_type": "code",
   "execution_count": null,
   "id": "7c57b99b",
   "metadata": {},
   "outputs": [],
   "source": []
  }
 ],
 "metadata": {
  "kernelspec": {
   "display_name": "Python 3 (ipykernel)",
   "language": "python",
   "name": "python3"
  },
  "language_info": {
   "codemirror_mode": {
    "name": "ipython",
    "version": 3
   },
   "file_extension": ".py",
   "mimetype": "text/x-python",
   "name": "python",
   "nbconvert_exporter": "python",
   "pygments_lexer": "ipython3",
   "version": "3.9.12"
  },
  "toc": {
   "base_numbering": 1,
   "nav_menu": {},
   "number_sections": true,
   "sideBar": true,
   "skip_h1_title": false,
   "title_cell": "Table of Contents",
   "title_sidebar": "Contents",
   "toc_cell": false,
   "toc_position": {},
   "toc_section_display": true,
   "toc_window_display": false
  }
 },
 "nbformat": 4,
 "nbformat_minor": 5
}
